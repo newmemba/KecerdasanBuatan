{
 "cells": [
  {
   "cell_type": "code",
   "execution_count": null,
   "id": "44333f42",
   "metadata": {},
   "outputs": [
    {
     "name": "stderr",
     "output_type": "stream",
     "text": [
      "100%|██████████| 764/764 [00:00<00:00, 1545.99it/s]"
     ]
    },
    {
     "name": "stdout",
     "output_type": "stream",
     "text": [
      "Selesai cropping dan menyimpan gambar ke folder klasifikasi.\n"
     ]
    },
    {
     "name": "stderr",
     "output_type": "stream",
     "text": [
      "\n"
     ]
    }
   ],
   "source": [
    "import os\n",
    "import cv2\n",
    "import xml.etree.ElementTree as ET\n",
    "from tqdm import tqdm\n",
    "\n",
    "IMAGE_FOLDER = \"Helmet_Detection/images\"\n",
    "ANNOTATION_FOLDER = \"Helmet_Detection/annotations\"\n",
    "\n",
    "OUTPUT_FOLDER = \"dataset_cropped\"\n",
    "WITH_HELMET = os.path.join(OUTPUT_FOLDER, \"with_helmet\")\n",
    "WITHOUT_HELMET = os.path.join(OUTPUT_FOLDER, \"without_helmet\")\n",
    "\n",
    "os.makedirs(WITH_HELMET, exist_ok=True)\n",
    "os.makedirs(WITHOUT_HELMET, exist_ok=True)\n",
    "\n",
    "def crop_and_save(image_path, label, box, count):\n",
    "    img = cv2.imread(image_path)\n",
    "    x_min, y_min, x_max, y_max = map(int, box)\n",
    "    cropped = img[y_min:y_max, x_min:x_max]\n",
    "\n",
    "    if cropped.size == 0:\n",
    "        return  \n",
    "\n",
    "    output_dir = WITH_HELMET if label == 'helmet' else WITHOUT_HELMET\n",
    "    save_path = os.path.join(output_dir, f\"{label}_{count}.jpg\")\n",
    "    cv2.imwrite(save_path, cropped)\n",
    "\n",
    "count = 0\n",
    "for xml_file in tqdm(os.listdir(ANNOTATION_FOLDER)):\n",
    "    if not xml_file.endswith(\".xml\"):\n",
    "        continue\n",
    "\n",
    "    tree = ET.parse(os.path.join(ANNOTATION_FOLDER, xml_file))\n",
    "    root = tree.getroot()\n",
    "\n",
    "    image_file = root.find('filename').text\n",
    "    image_path = os.path.join(IMAGE_FOLDER, image_file)\n",
    "\n",
    "    for obj in root.findall('object'):\n",
    "        label = obj.find('name').text\n",
    "        if label not in ['helmet', 'head']:  \n",
    "            continue\n",
    "\n",
    "        bndbox = obj.find('bndbox')\n",
    "        box = [\n",
    "            bndbox.find('xmin').text,\n",
    "            bndbox.find('ymin').text,\n",
    "            bndbox.find('xmax').text,\n",
    "            bndbox.find('ymax').text\n",
    "        ]\n",
    "        crop_and_save(image_path, label if label == 'helmet' else 'no_helmet', box, count)\n",
    "        count += 1\n",
    "\n",
    "print(\"Selesai cropping dan menyimpan gambar ke folder klasifikasi.\")\n"
   ]
  }
 ],
 "metadata": {
  "kernelspec": {
   "display_name": "tf_env",
   "language": "python",
   "name": "python3"
  },
  "language_info": {
   "codemirror_mode": {
    "name": "ipython",
    "version": 3
   },
   "file_extension": ".py",
   "mimetype": "text/x-python",
   "name": "python",
   "nbconvert_exporter": "python",
   "pygments_lexer": "ipython3",
   "version": "3.10.18"
  }
 },
 "nbformat": 4,
 "nbformat_minor": 5
}
